{
 "cells": [
  {
   "cell_type": "code",
   "execution_count": 1,
   "metadata": {
    "colab": {
     "base_uri": "https://localhost:8080/"
    },
    "executionInfo": {
     "elapsed": 28594,
     "status": "ok",
     "timestamp": 1688839766640,
     "user": {
      "displayName": "LEONG YI HONG",
      "userId": "00611861423420796889"
     },
     "user_tz": -480
    },
    "id": "eiY--cje_SQR",
    "outputId": "6ec21a5f-cbf4-4ab0-eb43-1d4715e2fef4"
   },
   "outputs": [
    {
     "name": "stdout",
     "output_type": "stream",
     "text": [
      "Requirement already satisfied: gspread in /usr/local/lib/python3.10/dist-packages (3.4.2)\n",
      "Requirement already satisfied: requests>=2.2.1 in /usr/local/lib/python3.10/dist-packages (from gspread) (2.27.1)\n",
      "Requirement already satisfied: google-auth in /usr/local/lib/python3.10/dist-packages (from gspread) (2.17.3)\n",
      "Requirement already satisfied: urllib3<1.27,>=1.21.1 in /usr/local/lib/python3.10/dist-packages (from requests>=2.2.1->gspread) (1.26.16)\n",
      "Requirement already satisfied: certifi>=2017.4.17 in /usr/local/lib/python3.10/dist-packages (from requests>=2.2.1->gspread) (2023.5.7)\n",
      "Requirement already satisfied: charset-normalizer~=2.0.0 in /usr/local/lib/python3.10/dist-packages (from requests>=2.2.1->gspread) (2.0.12)\n",
      "Requirement already satisfied: idna<4,>=2.5 in /usr/local/lib/python3.10/dist-packages (from requests>=2.2.1->gspread) (3.4)\n",
      "Requirement already satisfied: cachetools<6.0,>=2.0.0 in /usr/local/lib/python3.10/dist-packages (from google-auth->gspread) (5.3.1)\n",
      "Requirement already satisfied: pyasn1-modules>=0.2.1 in /usr/local/lib/python3.10/dist-packages (from google-auth->gspread) (0.3.0)\n",
      "Requirement already satisfied: six>=1.9.0 in /usr/local/lib/python3.10/dist-packages (from google-auth->gspread) (1.16.0)\n",
      "Requirement already satisfied: rsa<5,>=3.1.4 in /usr/local/lib/python3.10/dist-packages (from google-auth->gspread) (4.9)\n",
      "Requirement already satisfied: pyasn1<0.6.0,>=0.4.6 in /usr/local/lib/python3.10/dist-packages (from pyasn1-modules>=0.2.1->google-auth->gspread) (0.5.0)\n",
      "Requirement already satisfied: oauth2client in /usr/local/lib/python3.10/dist-packages (4.1.3)\n",
      "Requirement already satisfied: httplib2>=0.9.1 in /usr/local/lib/python3.10/dist-packages (from oauth2client) (0.21.0)\n",
      "Requirement already satisfied: pyasn1>=0.1.7 in /usr/local/lib/python3.10/dist-packages (from oauth2client) (0.5.0)\n",
      "Requirement already satisfied: pyasn1-modules>=0.0.5 in /usr/local/lib/python3.10/dist-packages (from oauth2client) (0.3.0)\n",
      "Requirement already satisfied: rsa>=3.1.4 in /usr/local/lib/python3.10/dist-packages (from oauth2client) (4.9)\n",
      "Requirement already satisfied: six>=1.6.1 in /usr/local/lib/python3.10/dist-packages (from oauth2client) (1.16.0)\n",
      "Requirement already satisfied: pyparsing!=3.0.0,!=3.0.1,!=3.0.2,!=3.0.3,<4,>=2.4.2 in /usr/local/lib/python3.10/dist-packages (from httplib2>=0.9.1->oauth2client) (3.1.0)\n",
      "Collecting powerbiclient\n",
      "  Downloading powerbiclient-3.0.2-py2.py3-none-any.whl (679 kB)\n",
      "\u001b[2K     \u001b[90m━━━━━━━━━━━━━━━━━━━━━━━━━━━━━━━━━━━━━━\u001b[0m \u001b[32m679.0/679.0 kB\u001b[0m \u001b[31m10.5 MB/s\u001b[0m eta \u001b[36m0:00:00\u001b[0m\n",
      "\u001b[?25hRequirement already satisfied: ipywidgets>=7.0.0 in /usr/local/lib/python3.10/dist-packages (from powerbiclient) (7.7.1)\n",
      "Collecting jupyter-ui-poll>=0.1.2 (from powerbiclient)\n",
      "  Downloading jupyter_ui_poll-0.2.2-py2.py3-none-any.whl (9.0 kB)\n",
      "Collecting msal>=1.8.0 (from powerbiclient)\n",
      "  Downloading msal-1.22.0-py2.py3-none-any.whl (90 kB)\n",
      "\u001b[2K     \u001b[90m━━━━━━━━━━━━━━━━━━━━━━━━━━━━━━━━━━━━━━━━\u001b[0m \u001b[32m90.0/90.0 kB\u001b[0m \u001b[31m9.2 MB/s\u001b[0m eta \u001b[36m0:00:00\u001b[0m\n",
      "\u001b[?25hRequirement already satisfied: requests>=2.25.1 in /usr/local/lib/python3.10/dist-packages (from powerbiclient) (2.27.1)\n",
      "Requirement already satisfied: pandas in /usr/local/lib/python3.10/dist-packages (from powerbiclient) (1.5.3)\n",
      "Requirement already satisfied: ipykernel>=4.5.1 in /usr/local/lib/python3.10/dist-packages (from ipywidgets>=7.0.0->powerbiclient) (5.5.6)\n",
      "Requirement already satisfied: ipython-genutils~=0.2.0 in /usr/local/lib/python3.10/dist-packages (from ipywidgets>=7.0.0->powerbiclient) (0.2.0)\n",
      "Requirement already satisfied: traitlets>=4.3.1 in /usr/local/lib/python3.10/dist-packages (from ipywidgets>=7.0.0->powerbiclient) (5.7.1)\n",
      "Requirement already satisfied: widgetsnbextension~=3.6.0 in /usr/local/lib/python3.10/dist-packages (from ipywidgets>=7.0.0->powerbiclient) (3.6.4)\n",
      "Requirement already satisfied: ipython>=4.0.0 in /usr/local/lib/python3.10/dist-packages (from ipywidgets>=7.0.0->powerbiclient) (7.34.0)\n",
      "Requirement already satisfied: jupyterlab-widgets>=1.0.0 in /usr/local/lib/python3.10/dist-packages (from ipywidgets>=7.0.0->powerbiclient) (3.0.7)\n",
      "Collecting PyJWT[crypto]<3,>=1.0.0 (from msal>=1.8.0->powerbiclient)\n",
      "  Downloading PyJWT-2.7.0-py3-none-any.whl (22 kB)\n",
      "Collecting cryptography<43,>=0.6 (from msal>=1.8.0->powerbiclient)\n",
      "  Downloading cryptography-41.0.1-cp37-abi3-manylinux_2_28_x86_64.whl (4.3 MB)\n",
      "\u001b[2K     \u001b[90m━━━━━━━━━━━━━━━━━━━━━━━━━━━━━━━━━━━━━━━━\u001b[0m \u001b[32m4.3/4.3 MB\u001b[0m \u001b[31m58.7 MB/s\u001b[0m eta \u001b[36m0:00:00\u001b[0m\n",
      "\u001b[?25hRequirement already satisfied: urllib3<1.27,>=1.21.1 in /usr/local/lib/python3.10/dist-packages (from requests>=2.25.1->powerbiclient) (1.26.16)\n",
      "Requirement already satisfied: certifi>=2017.4.17 in /usr/local/lib/python3.10/dist-packages (from requests>=2.25.1->powerbiclient) (2023.5.7)\n",
      "Requirement already satisfied: charset-normalizer~=2.0.0 in /usr/local/lib/python3.10/dist-packages (from requests>=2.25.1->powerbiclient) (2.0.12)\n",
      "Requirement already satisfied: idna<4,>=2.5 in /usr/local/lib/python3.10/dist-packages (from requests>=2.25.1->powerbiclient) (3.4)\n",
      "Requirement already satisfied: python-dateutil>=2.8.1 in /usr/local/lib/python3.10/dist-packages (from pandas->powerbiclient) (2.8.2)\n",
      "Requirement already satisfied: pytz>=2020.1 in /usr/local/lib/python3.10/dist-packages (from pandas->powerbiclient) (2022.7.1)\n",
      "Requirement already satisfied: numpy>=1.21.0 in /usr/local/lib/python3.10/dist-packages (from pandas->powerbiclient) (1.22.4)\n",
      "Requirement already satisfied: cffi>=1.12 in /usr/local/lib/python3.10/dist-packages (from cryptography<43,>=0.6->msal>=1.8.0->powerbiclient) (1.15.1)\n",
      "Requirement already satisfied: jupyter-client in /usr/local/lib/python3.10/dist-packages (from ipykernel>=4.5.1->ipywidgets>=7.0.0->powerbiclient) (6.1.12)\n",
      "Requirement already satisfied: tornado>=4.2 in /usr/local/lib/python3.10/dist-packages (from ipykernel>=4.5.1->ipywidgets>=7.0.0->powerbiclient) (6.3.1)\n",
      "Requirement already satisfied: setuptools>=18.5 in /usr/local/lib/python3.10/dist-packages (from ipython>=4.0.0->ipywidgets>=7.0.0->powerbiclient) (67.7.2)\n",
      "Collecting jedi>=0.16 (from ipython>=4.0.0->ipywidgets>=7.0.0->powerbiclient)\n",
      "  Downloading jedi-0.18.2-py2.py3-none-any.whl (1.6 MB)\n",
      "\u001b[2K     \u001b[90m━━━━━━━━━━━━━━━━━━━━━━━━━━━━━━━━━━━━━━━━\u001b[0m \u001b[32m1.6/1.6 MB\u001b[0m \u001b[31m62.6 MB/s\u001b[0m eta \u001b[36m0:00:00\u001b[0m\n",
      "\u001b[?25hRequirement already satisfied: decorator in /usr/local/lib/python3.10/dist-packages (from ipython>=4.0.0->ipywidgets>=7.0.0->powerbiclient) (4.4.2)\n",
      "Requirement already satisfied: pickleshare in /usr/local/lib/python3.10/dist-packages (from ipython>=4.0.0->ipywidgets>=7.0.0->powerbiclient) (0.7.5)\n",
      "Requirement already satisfied: prompt-toolkit!=3.0.0,!=3.0.1,<3.1.0,>=2.0.0 in /usr/local/lib/python3.10/dist-packages (from ipython>=4.0.0->ipywidgets>=7.0.0->powerbiclient) (3.0.38)\n",
      "Requirement already satisfied: pygments in /usr/local/lib/python3.10/dist-packages (from ipython>=4.0.0->ipywidgets>=7.0.0->powerbiclient) (2.14.0)\n",
      "Requirement already satisfied: backcall in /usr/local/lib/python3.10/dist-packages (from ipython>=4.0.0->ipywidgets>=7.0.0->powerbiclient) (0.2.0)\n",
      "Requirement already satisfied: matplotlib-inline in /usr/local/lib/python3.10/dist-packages (from ipython>=4.0.0->ipywidgets>=7.0.0->powerbiclient) (0.1.6)\n",
      "Requirement already satisfied: pexpect>4.3 in /usr/local/lib/python3.10/dist-packages (from ipython>=4.0.0->ipywidgets>=7.0.0->powerbiclient) (4.8.0)\n",
      "Requirement already satisfied: six>=1.5 in /usr/local/lib/python3.10/dist-packages (from python-dateutil>=2.8.1->pandas->powerbiclient) (1.16.0)\n",
      "Requirement already satisfied: notebook>=4.4.1 in /usr/local/lib/python3.10/dist-packages (from widgetsnbextension~=3.6.0->ipywidgets>=7.0.0->powerbiclient) (6.4.8)\n",
      "Requirement already satisfied: pycparser in /usr/local/lib/python3.10/dist-packages (from cffi>=1.12->cryptography<43,>=0.6->msal>=1.8.0->powerbiclient) (2.21)\n",
      "Requirement already satisfied: parso<0.9.0,>=0.8.0 in /usr/local/lib/python3.10/dist-packages (from jedi>=0.16->ipython>=4.0.0->ipywidgets>=7.0.0->powerbiclient) (0.8.3)\n",
      "Requirement already satisfied: jinja2 in /usr/local/lib/python3.10/dist-packages (from notebook>=4.4.1->widgetsnbextension~=3.6.0->ipywidgets>=7.0.0->powerbiclient) (3.1.2)\n",
      "Requirement already satisfied: pyzmq>=17 in /usr/local/lib/python3.10/dist-packages (from notebook>=4.4.1->widgetsnbextension~=3.6.0->ipywidgets>=7.0.0->powerbiclient) (23.2.1)\n",
      "Requirement already satisfied: argon2-cffi in /usr/local/lib/python3.10/dist-packages (from notebook>=4.4.1->widgetsnbextension~=3.6.0->ipywidgets>=7.0.0->powerbiclient) (21.3.0)\n",
      "Requirement already satisfied: jupyter-core>=4.6.1 in /usr/local/lib/python3.10/dist-packages (from notebook>=4.4.1->widgetsnbextension~=3.6.0->ipywidgets>=7.0.0->powerbiclient) (5.3.1)\n",
      "Requirement already satisfied: nbformat in /usr/local/lib/python3.10/dist-packages (from notebook>=4.4.1->widgetsnbextension~=3.6.0->ipywidgets>=7.0.0->powerbiclient) (5.9.0)\n",
      "Requirement already satisfied: nbconvert in /usr/local/lib/python3.10/dist-packages (from notebook>=4.4.1->widgetsnbextension~=3.6.0->ipywidgets>=7.0.0->powerbiclient) (6.5.4)\n",
      "Requirement already satisfied: nest-asyncio>=1.5 in /usr/local/lib/python3.10/dist-packages (from notebook>=4.4.1->widgetsnbextension~=3.6.0->ipywidgets>=7.0.0->powerbiclient) (1.5.6)\n",
      "Requirement already satisfied: Send2Trash>=1.8.0 in /usr/local/lib/python3.10/dist-packages (from notebook>=4.4.1->widgetsnbextension~=3.6.0->ipywidgets>=7.0.0->powerbiclient) (1.8.2)\n",
      "Requirement already satisfied: terminado>=0.8.3 in /usr/local/lib/python3.10/dist-packages (from notebook>=4.4.1->widgetsnbextension~=3.6.0->ipywidgets>=7.0.0->powerbiclient) (0.17.1)\n",
      "Requirement already satisfied: prometheus-client in /usr/local/lib/python3.10/dist-packages (from notebook>=4.4.1->widgetsnbextension~=3.6.0->ipywidgets>=7.0.0->powerbiclient) (0.17.0)\n",
      "Requirement already satisfied: ptyprocess>=0.5 in /usr/local/lib/python3.10/dist-packages (from pexpect>4.3->ipython>=4.0.0->ipywidgets>=7.0.0->powerbiclient) (0.7.0)\n",
      "Requirement already satisfied: wcwidth in /usr/local/lib/python3.10/dist-packages (from prompt-toolkit!=3.0.0,!=3.0.1,<3.1.0,>=2.0.0->ipython>=4.0.0->ipywidgets>=7.0.0->powerbiclient) (0.2.6)\n",
      "Requirement already satisfied: platformdirs>=2.5 in /usr/local/lib/python3.10/dist-packages (from jupyter-core>=4.6.1->notebook>=4.4.1->widgetsnbextension~=3.6.0->ipywidgets>=7.0.0->powerbiclient) (3.7.0)\n",
      "Requirement already satisfied: argon2-cffi-bindings in /usr/local/lib/python3.10/dist-packages (from argon2-cffi->notebook>=4.4.1->widgetsnbextension~=3.6.0->ipywidgets>=7.0.0->powerbiclient) (21.2.0)\n",
      "Requirement already satisfied: MarkupSafe>=2.0 in /usr/local/lib/python3.10/dist-packages (from jinja2->notebook>=4.4.1->widgetsnbextension~=3.6.0->ipywidgets>=7.0.0->powerbiclient) (2.1.3)\n",
      "Requirement already satisfied: lxml in /usr/local/lib/python3.10/dist-packages (from nbconvert->notebook>=4.4.1->widgetsnbextension~=3.6.0->ipywidgets>=7.0.0->powerbiclient) (4.9.2)\n",
      "Requirement already satisfied: beautifulsoup4 in /usr/local/lib/python3.10/dist-packages (from nbconvert->notebook>=4.4.1->widgetsnbextension~=3.6.0->ipywidgets>=7.0.0->powerbiclient) (4.11.2)\n",
      "Requirement already satisfied: bleach in /usr/local/lib/python3.10/dist-packages (from nbconvert->notebook>=4.4.1->widgetsnbextension~=3.6.0->ipywidgets>=7.0.0->powerbiclient) (6.0.0)\n",
      "Requirement already satisfied: defusedxml in /usr/local/lib/python3.10/dist-packages (from nbconvert->notebook>=4.4.1->widgetsnbextension~=3.6.0->ipywidgets>=7.0.0->powerbiclient) (0.7.1)\n",
      "Requirement already satisfied: entrypoints>=0.2.2 in /usr/local/lib/python3.10/dist-packages (from nbconvert->notebook>=4.4.1->widgetsnbextension~=3.6.0->ipywidgets>=7.0.0->powerbiclient) (0.4)\n",
      "Requirement already satisfied: jupyterlab-pygments in /usr/local/lib/python3.10/dist-packages (from nbconvert->notebook>=4.4.1->widgetsnbextension~=3.6.0->ipywidgets>=7.0.0->powerbiclient) (0.2.2)\n",
      "Requirement already satisfied: mistune<2,>=0.8.1 in /usr/local/lib/python3.10/dist-packages (from nbconvert->notebook>=4.4.1->widgetsnbextension~=3.6.0->ipywidgets>=7.0.0->powerbiclient) (0.8.4)\n",
      "Requirement already satisfied: nbclient>=0.5.0 in /usr/local/lib/python3.10/dist-packages (from nbconvert->notebook>=4.4.1->widgetsnbextension~=3.6.0->ipywidgets>=7.0.0->powerbiclient) (0.8.0)\n",
      "Requirement already satisfied: packaging in /usr/local/lib/python3.10/dist-packages (from nbconvert->notebook>=4.4.1->widgetsnbextension~=3.6.0->ipywidgets>=7.0.0->powerbiclient) (23.1)\n",
      "Requirement already satisfied: pandocfilters>=1.4.1 in /usr/local/lib/python3.10/dist-packages (from nbconvert->notebook>=4.4.1->widgetsnbextension~=3.6.0->ipywidgets>=7.0.0->powerbiclient) (1.5.0)\n",
      "Requirement already satisfied: tinycss2 in /usr/local/lib/python3.10/dist-packages (from nbconvert->notebook>=4.4.1->widgetsnbextension~=3.6.0->ipywidgets>=7.0.0->powerbiclient) (1.2.1)\n",
      "Requirement already satisfied: fastjsonschema in /usr/local/lib/python3.10/dist-packages (from nbformat->notebook>=4.4.1->widgetsnbextension~=3.6.0->ipywidgets>=7.0.0->powerbiclient) (2.17.1)\n",
      "Requirement already satisfied: jsonschema>=2.6 in /usr/local/lib/python3.10/dist-packages (from nbformat->notebook>=4.4.1->widgetsnbextension~=3.6.0->ipywidgets>=7.0.0->powerbiclient) (4.3.3)\n",
      "Requirement already satisfied: attrs>=17.4.0 in /usr/local/lib/python3.10/dist-packages (from jsonschema>=2.6->nbformat->notebook>=4.4.1->widgetsnbextension~=3.6.0->ipywidgets>=7.0.0->powerbiclient) (23.1.0)\n",
      "Requirement already satisfied: pyrsistent!=0.17.0,!=0.17.1,!=0.17.2,>=0.14.0 in /usr/local/lib/python3.10/dist-packages (from jsonschema>=2.6->nbformat->notebook>=4.4.1->widgetsnbextension~=3.6.0->ipywidgets>=7.0.0->powerbiclient) (0.19.3)\n",
      "Requirement already satisfied: soupsieve>1.2 in /usr/local/lib/python3.10/dist-packages (from beautifulsoup4->nbconvert->notebook>=4.4.1->widgetsnbextension~=3.6.0->ipywidgets>=7.0.0->powerbiclient) (2.4.1)\n",
      "Requirement already satisfied: webencodings in /usr/local/lib/python3.10/dist-packages (from bleach->nbconvert->notebook>=4.4.1->widgetsnbextension~=3.6.0->ipywidgets>=7.0.0->powerbiclient) (0.5.1)\n",
      "Installing collected packages: PyJWT, jedi, cryptography, jupyter-ui-poll, msal, powerbiclient\n",
      "Successfully installed PyJWT-2.7.0 cryptography-41.0.1 jedi-0.18.2 jupyter-ui-poll-0.2.2 msal-1.22.0 powerbiclient-3.0.2\n"
     ]
    }
   ],
   "source": [
    "!pip install gspread\n",
    "!pip install oauth2client\n",
    "!pip install powerbiclient"
   ]
  },
  {
   "cell_type": "code",
   "execution_count": 2,
   "metadata": {
    "colab": {
     "base_uri": "https://localhost:8080/"
    },
    "executionInfo": {
     "elapsed": 12573,
     "status": "ok",
     "timestamp": 1688839779210,
     "user": {
      "displayName": "LEONG YI HONG",
      "userId": "00611861423420796889"
     },
     "user_tz": -480
    },
    "id": "_WntiZ_Ku0q6",
    "outputId": "909566d1-6546-49ee-deac-12ed2ef420d8"
   },
   "outputs": [
    {
     "name": "stdout",
     "output_type": "stream",
     "text": [
      "Drive already mounted at /content/drive; to attempt to forcibly remount, call drive.mount(\"/content/drive\", force_remount=True).\n"
     ]
    }
   ],
   "source": [
    "import gspread\n",
    "from oauth2client.service_account import ServiceAccountCredentials\n",
    "\n",
    "import pandas as pd\n",
    "\n",
    "from powerbiclient import Report\n",
    "from google.colab import output\n",
    "output.enable_custom_widget_manager()\n",
    "\n",
    "from google.colab import drive\n",
    "drive.mount('/content/drive')"
   ]
  },
  {
   "cell_type": "markdown",
   "metadata": {
    "id": "WL_kCen0ogRq"
   },
   "source": [
    "### Authenticate The Google Sheets API, Google Drive"
   ]
  },
  {
   "cell_type": "code",
   "execution_count": 3,
   "metadata": {
    "executionInfo": {
     "elapsed": 631,
     "status": "ok",
     "timestamp": 1688839779838,
     "user": {
      "displayName": "LEONG YI HONG",
      "userId": "00611861423420796889"
     },
     "user_tz": -480
    },
    "id": "ON9T6sQE3yzZ"
   },
   "outputs": [],
   "source": [
    "scope = [ 'https://www.googleapis.com/auth/spreadsheets','https://www.googleapis.com/auth/drive']\n",
    "credentials = ServiceAccountCredentials.from_json_keyfile_name(\"/content/drive/MyDrive/FYP2/Python/key.json\",scope)\n",
    "client = gspread.authorize(credentials)"
   ]
  },
  {
   "cell_type": "markdown",
   "metadata": {
    "id": "Kusjol84oH8w"
   },
   "source": [
    "### Create a New Google Sheets\n",
    "###### Ignore This Step If File Exists"
   ]
  },
  {
   "cell_type": "code",
   "execution_count": null,
   "metadata": {
    "id": "fYWaK288n0j_"
   },
   "outputs": [],
   "source": [
    "#Create\n",
    "#sheet = client.create(\"FYP2_Visualization\")\n",
    "#Share To User\n",
    "#sheet.share('leongyihong0308@gmail.com', perm_type='user',role='writer')"
   ]
  },
  {
   "cell_type": "markdown",
   "metadata": {
    "id": "PahH1Zo0oaL5"
   },
   "source": [
    "### Update Sheet With New Dataset"
   ]
  },
  {
   "cell_type": "code",
   "execution_count": 4,
   "metadata": {
    "colab": {
     "base_uri": "https://localhost:8080/"
    },
    "executionInfo": {
     "elapsed": 158422,
     "status": "ok",
     "timestamp": 1688839938258,
     "user": {
      "displayName": "LEONG YI HONG",
      "userId": "00611861423420796889"
     },
     "user_tz": -480
    },
    "id": "7yq9QEj7oZHF",
    "outputId": "2e98072b-f110-4d9a-e5e7-8a73e0f26664"
   },
   "outputs": [
    {
     "data": {
      "text/plain": [
       "{'spreadsheetId': '13MHs9e3yeoEAlnix7KERM_sDnAfv_61ZBToGe-3wQrg',\n",
       " 'updatedRange': 'Sheet1!A1:BC60550',\n",
       " 'updatedRows': 60550,\n",
       " 'updatedColumns': 55,\n",
       " 'updatedCells': 3330250}"
      ]
     },
     "execution_count": 4,
     "metadata": {},
     "output_type": "execute_result"
    }
   ],
   "source": [
    "sheet = client.open(\"FYP2_Visualization\").sheet1\n",
    "\n",
    "# Clear the existing data from the sheet\n",
    "sheet.clear()\n",
    "\n",
    "#Read New Dataset in Pandas\n",
    "newdata = pd.read_excel(\"/content/drive/MyDrive/FYP2/FYP2_Data_Final.xlsx\")\n",
    "\n",
    "#Convert To String\n",
    "newdata = newdata.astype(str)\n",
    "\n",
    "# Update the Google Sheets file with the modified DataFrame\n",
    "sheet.update([newdata.columns.values.tolist()] + newdata.values.tolist())"
   ]
  },
  {
   "cell_type": "code",
   "execution_count": 5,
   "metadata": {
    "colab": {
     "base_uri": "https://localhost:8080/",
     "height": 1000,
     "referenced_widgets": [
      "068a174a33cd4e3797d8c469d89835cd",
      "02bcfe34b1fe467a8412ba5d3f3cb541"
     ]
    },
    "executionInfo": {
     "elapsed": 49853,
     "status": "ok",
     "timestamp": 1688839988108,
     "user": {
      "displayName": "LEONG YI HONG",
      "userId": "00611861423420796889"
     },
     "user_tz": -480
    },
    "id": "SagL2SF5u1uW",
    "outputId": "693213b3-5ef4-42ca-f846-5d729aafed0b"
   },
   "outputs": [
    {
     "name": "stdout",
     "output_type": "stream",
     "text": [
      "Performing device flow authentication. Please follow the instructions below.\n",
      "To sign in, use a web browser to open the page https://microsoft.com/devicelogin and enter the code EZR3Q2HJQ to authenticate.\n",
      "\n",
      "Device flow authentication successfully completed.\n",
      "You are now logged in .\n",
      "\n",
      "The result should be passed only to trusted code in your notebook.\n"
     ]
    },
    {
     "data": {
      "application/vnd.jupyter.widget-view+json": {
       "model_id": "068a174a33cd4e3797d8c469d89835cd",
       "version_major": 2,
       "version_minor": 0
      },
      "text/plain": [
       "Report()"
      ]
     },
     "metadata": {
      "application/vnd.jupyter.widget-view+json": {
       "colab": {
        "custom_widget_manager": {
         "url": "https://ssl.gstatic.com/colaboratory-static/widgets/colab-cdn-widget-manager/b3e629b1971e1542/manager.min.js"
        }
       }
      }
     },
     "output_type": "display_data"
    }
   ],
   "source": [
    "# Define your Azure AD and Power BI details\n",
    "tenant_id = ''\n",
    "client_id = ''\n",
    "client_secret = ''\n",
    "authority = f\"https://login.microsoftonline.com/{tenant_id}\"\n",
    "\n",
    "group_id = \"\"\n",
    "report_id = ''  # Replace with your actual report ID\n",
    "\n",
    "# Create an instance of the Report class\n",
    "report = Report(tenant_id=tenant_id, client_id=client_id, client_secret=client_secret, authority=authority, report_id=report_id, group_id=group_id)\n",
    "\n",
    "# Display the report\n",
    "display(report)"
   ]
  }
 ],
 "metadata": {
  "colab": {
   "authorship_tag": "ABX9TyPl6bM251x6EtX29TfLh6VJ",
   "mount_file_id": "1auiFfG1gDqAseAx3IqyIH2jUkBpFk2I7",
   "provenance": []
  },
  "kernelspec": {
   "display_name": "Python 3 (ipykernel)",
   "language": "python",
   "name": "python3"
  },
  "language_info": {
   "codemirror_mode": {
    "name": "ipython",
    "version": 3
   },
   "file_extension": ".py",
   "mimetype": "text/x-python",
   "name": "python",
   "nbconvert_exporter": "python",
   "pygments_lexer": "ipython3",
   "version": "3.9.13"
  },
  "widgets": {
   "application/vnd.jupyter.widget-state+json": {
    "02bcfe34b1fe467a8412ba5d3f3cb541": {
     "model_module": "@jupyter-widgets/base",
     "model_module_version": "1.2.0",
     "model_name": "LayoutModel",
     "state": {
      "_model_module": "@jupyter-widgets/base",
      "_model_module_version": "1.2.0",
      "_model_name": "LayoutModel",
      "_view_count": null,
      "_view_module": "@jupyter-widgets/base",
      "_view_module_version": "1.2.0",
      "_view_name": "LayoutView",
      "align_content": null,
      "align_items": null,
      "align_self": null,
      "border": null,
      "bottom": null,
      "display": null,
      "flex": null,
      "flex_flow": null,
      "grid_area": null,
      "grid_auto_columns": null,
      "grid_auto_flow": null,
      "grid_auto_rows": null,
      "grid_column": null,
      "grid_gap": null,
      "grid_row": null,
      "grid_template_areas": null,
      "grid_template_columns": null,
      "grid_template_rows": null,
      "height": null,
      "justify_content": null,
      "justify_items": null,
      "left": null,
      "margin": null,
      "max_height": null,
      "max_width": null,
      "min_height": null,
      "min_width": null,
      "object_fit": null,
      "object_position": null,
      "order": null,
      "overflow": null,
      "overflow_x": null,
      "overflow_y": null,
      "padding": null,
      "right": null,
      "top": null,
      "visibility": null,
      "width": null
     }
    },
    "068a174a33cd4e3797d8c469d89835cd": {
     "model_module": "powerbi-jupyter-client",
     "model_module_version": "3.0.2",
     "model_name": "ReportModel",
     "state": {
      "_client_error": "",
      "_dom_classes": [],
      "_embed_config": {
       "accessToken": "eyJ0eXAiOiJKV1QiLCJhbGciOiJSUzI1NiIsIng1dCI6Ii1LSTNROW5OUjdiUm9meG1lWm9YcWJIWkdldyIsImtpZCI6Ii1LSTNROW5OUjdiUm9meG1lWm9YcWJIWkdldyJ9.eyJhdWQiOiJodHRwczovL2FuYWx5c2lzLndpbmRvd3MubmV0L3Bvd2VyYmkvYXBpIiwiaXNzIjoiaHR0cHM6Ly9zdHMud2luZG93cy5uZXQvN2UwYjVmY2YtMTJjNC00ZWZmLTk2YjYtNDY2NGYyNWRjN2RhLyIsImlhdCI6MTY4ODgzOTY4OSwibmJmIjoxNjg4ODM5Njg5LCJleHAiOjE2ODg4NDQ1MjYsImFjY3QiOjAsImFjciI6IjEiLCJhaW8iOiJBVlFBcS84VEFBQUErU1doT05RaWcxNUZUcTFyS3k1UnNWaUk0T09laURHVzRmTmxoOXhVdG1nc3FxeGRmNlpoeGN3RzhsWUFoMm9Zcy9SUVhOYURQM3E2enRTbHFEbFlkSnhvc3Fmd2F4eXpwTzJhM3dyczhMMD0iLCJhbXIiOlsicHdkIl0sImFwcGlkIjoiMWFlYTNmOTctZWRjNi00NDUzLWE1OWItYjg4YjBiODAzNzExIiwiYXBwaWRhY3IiOiIwIiwiZmFtaWx5X25hbWUiOiJMRU9ORyBZSSBIT05HIiwiaXBhZGRyIjoiMzQuMTQ4LjU3LjEwOCIsIm5hbWUiOiJMRU9ORyBZSSBIT05HIiwib2lkIjoiOGVkZDA5OTAtZWM3ZS00NzQyLWJlYTctNDY0MzZiODdlMDZiIiwib25wcmVtX3NpZCI6IlMtMS01LTIxLTMzOTM2MDc5MzgtMjE1MjY0NTEzMy05Njk4MzQ5NTAtNDM2NzE5IiwicHVpZCI6IjEwMDMyMDAxMzNBNUM0RDciLCJyaCI6IjAuQVhJQXoxOExmc1FTXzA2V3RrWms4bDNIMmdrQUFBQUFBQUFBd0FBQUFBQUFBQUREQU80LiIsInNjcCI6IkNvbnRlbnQuQ3JlYXRlIERhdGFzZXQuUmVhZFdyaXRlLkFsbCBSZXBvcnQuUmVhZFdyaXRlLkFsbCBXb3Jrc3BhY2UuUmVhZC5BbGwiLCJzaWduaW5fc3RhdGUiOlsia21zaSJdLCJzdWIiOiItU1hpOW9tdF8zRV9Ka2EtU1YzYkU5bzdVblJiLXFLTkFhUGhuOVhMaGpNIiwidGlkIjoiN2UwYjVmY2YtMTJjNC00ZWZmLTk2YjYtNDY2NGYyNWRjN2RhIiwidW5pcXVlX25hbWUiOiIxMTkxMTAwMjkyQHNvZmZpY2UubW11LmVkdS5teSIsInVwbiI6IjExOTExMDAyOTJAc29mZmljZS5tbXUuZWR1Lm15IiwidXRpIjoiVUZCeWtrNXVaRW1ESXU1eU94aDFBQSIsInZlciI6IjEuMCIsIndpZHMiOlsiYjc5ZmJmNGQtM2VmOS00Njg5LTgxNDMtNzZiMTk0ZTg1NTA5Il19.R-gDeYMD9-fqqPb7cSk8rdc3Pj1M3IgwtadiFEOhwVCK8vjj0jI_z5DPRIq9ir9WrXmC41boU5wAu7jf4oRFts8AUR4C9AELNETGpDJofpFu03Mflm94O5T1OVuHMYqr6_onKVEtLudYyaiuEP8B7HsjKWfg8JD9uVYmkU0yDmo03rDuwHDOPvF3MceByg1RfS3GcGWO1Nx0tewYXAmCZ51QQCJ67PnnWwSNn4ydQBQ4EEJcdM779-qNflaUnw6IU3jBNVVlLfSp1OjpzlyfmparZitk89Buj4rUsUOQLWYA4J5EAHefq_tZSSzvg-Eh_vfv9FvxeuSg7yxFORVDew",
       "datasetId": null,
       "embedUrl": "https://app.powerbi.com/reportEmbed?reportId=9f342b3c-0f02-4807-aa43-9cb651aa5806&groupId=f4b32c96-7686-4187-ba83-59ad83d16377&w=2&config=eyJjbHVzdGVyVXJsIjoiaHR0cHM6Ly9XQUJJLVNPVVRILUVBU1QtQVNJQS1yZWRpcmVjdC5hbmFseXNpcy53aW5kb3dzLm5ldCIsImVtYmVkRmVhdHVyZXMiOnsibW9kZXJuRW1iZWQiOnRydWUsInVzYWdlTWV0cmljc1ZOZXh0Ijp0cnVlfX0%3d",
       "permissions": null,
       "tokenType": 0,
       "type": "report",
       "viewMode": 0
      },
      "_embedded": true,
      "_event_data": {
       "event_details": null,
       "event_name": "rendered"
      },
      "_export_visual_data_request": {
       "exportDataType": null,
       "pageName": null,
       "rows": null,
       "visualName": null
      },
      "_get_bookmarks_request": false,
      "_get_filters_request": false,
      "_get_pages_request": false,
      "_get_visuals_page_name": "",
      "_init_error": "",
      "_model_module": "powerbi-jupyter-client",
      "_model_module_version": "3.0.2",
      "_model_name": "ReportModel",
      "_page_visuals": [],
      "_report_bookmark_name": "",
      "_report_bookmarks": [],
      "_report_filters": [],
      "_report_filters_request": {
       "filters": [],
       "request_completed": true
      },
      "_report_pages": [],
      "_token_expired": false,
      "_view_count": null,
      "_view_module": "powerbi-jupyter-client",
      "_view_module_version": "3.0.2",
      "_view_name": "ReportView",
      "_visual_data": "",
      "container_height": 0,
      "container_width": 0,
      "layout": "IPY_MODEL_02bcfe34b1fe467a8412ba5d3f3cb541"
     }
    }
   }
  }
 },
 "nbformat": 4,
 "nbformat_minor": 1
}
